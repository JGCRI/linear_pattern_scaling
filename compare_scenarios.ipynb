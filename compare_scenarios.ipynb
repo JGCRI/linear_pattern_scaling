{
 "cells": [
  {
   "cell_type": "code",
   "execution_count": 2,
   "metadata": {
    "collapsed": true,
    "ExecuteTime": {
     "end_time": "2023-08-23T16:26:05.474487Z",
     "start_time": "2023-08-23T16:26:05.471901Z"
    }
   },
   "outputs": [],
   "source": [
    "import xarray as xr\n",
    "import matplotlib\n",
    "import numpy as np\n",
    "import pandas as pd\n",
    "import os\n",
    "from matplotlib import pyplot as plt\n",
    "\n",
    "nc_dir = 'outputs/'\n",
    "\n",
    "fig_dir = 'figs/'\n",
    "\n",
    "%matplotlib inline\n",
    "%config InlineBackend.figure_format = 'retina'\n",
    "plt.rcParams['figure.figsize'] = 12, 6\n",
    "\n",
    "# easier to read displays in console\n",
    "pd.set_option('display.max_columns', None)\n"
   ]
  },
  {
   "cell_type": "markdown",
   "source": [
    "# Figure out workflow for annual"
   ],
   "metadata": {
    "collapsed": false
   }
  },
  {
   "cell_type": "code",
   "execution_count": null,
   "outputs": [],
   "source": [
    "annual_data = pd.DataFrame()\n",
    "files = os.listdir(nc_dir+'annual_patterns/')\n",
    "annual_data['file'] = files.copy()\n",
    "\n",
    "esm_list = ([i.split('_', 1)[0] for i in files])\n",
    "annual_data['esm'] = esm_list.copy()\n",
    "\n",
    "scen_list = ([i.split('_', 2)[1] for i in files])\n",
    "annual_data['scenario'] = scen_list.copy()\n",
    "\n",
    "var_list = ([i.split('_', 3)[2] for i in files])\n",
    "annual_data['var'] = var_list.copy()\n",
    "\n",
    "annual_data"
   ],
   "metadata": {
    "collapsed": false
   }
  },
  {
   "cell_type": "code",
   "execution_count": 18,
   "outputs": [],
   "source": [
    "for esm in np.unique(esm_list):\n",
    "\n",
    "    esm_data_holder = pd.DataFrame()\n",
    "    for var in np.unique(var_list):\n",
    "\n",
    "        # Read all of the files\n",
    "        files_to_read = annual_data.loc[(annual_data['esm'] == esm) & (annual_data['var'] == var)][['file']].copy()\n",
    "\n",
    "\n",
    "        for fname in files_to_read['file']:\n",
    "            out = pd.DataFrame()\n",
    "            ds = xr.open_dataset(( nc_dir+'annual_patterns/' + fname))\n",
    "            out['slope'] = np.reshape(ds.slope.values,-1)\n",
    "            out['intercept'] = np.reshape(ds.intercept.values,-1)\n",
    "            out['grid_id'] = out.index\n",
    "            out['esm'] = [fname.split('_', 1)[0]] * len(out)\n",
    "            out['scenario'] = [fname.split('_', 2)[1]] * len(out)\n",
    "            out['var'] = [fname.split('_', 3)[2]] * len(out)\n",
    "            out['file'] = [fname] * len(out)\n",
    "\n",
    "\n",
    "            esm_data_holder = pd.concat([esm_data_holder, out]).reset_index(drop=True).copy()\n",
    "            # end for fname in files\n",
    "\n",
    "        # end for var in var_list\n",
    "\n",
    "        esm_data_holder.to_csv(nc_dir + esm + '_annual_values.csv', index=False)\n",
    "    # end for esm in esm_list\n"
   ],
   "metadata": {
    "collapsed": false,
    "ExecuteTime": {
     "end_time": "2023-08-23T16:37:20.118718Z",
     "start_time": "2023-08-23T16:35:38.844234Z"
    }
   }
  },
  {
   "cell_type": "markdown",
   "source": [
    "# loop the workflow over months"
   ],
   "metadata": {
    "collapsed": false
   }
  },
  {
   "cell_type": "code",
   "execution_count": null,
   "outputs": [],
   "source": [
    "months = ['jan', 'feb', 'mar', 'apr', 'may', 'jun', 'jul', 'aug', 'sep', 'oct', 'nov', 'dec']\n",
    "\n",
    "\n",
    "for mon in months:\n",
    "    mon_data = pd.DataFrame()\n",
    "\n",
    "    files = os.listdir(nc_dir+ mon +'_patterns/')\n",
    "    mon_data['file'] = files.copy()\n",
    "\n",
    "    esm_list = ([i.split('_', 1)[0] for i in files])\n",
    "    mon_data['esm'] = esm_list.copy()\n",
    "\n",
    "    scen_list = ([i.split('_', 2)[1] for i in files])\n",
    "    mon_data['scenario'] = scen_list.copy()\n",
    "\n",
    "    var_list = ([i.split('_', 3)[2] for i in files])\n",
    "    mon_data['var'] = var_list.copy()\n",
    "\n",
    "    for esm in np.unique(esm_list):\n",
    "\n",
    "        esm_data_holder = pd.DataFrame()\n",
    "\n",
    "        for var in np.unique(var_list):\n",
    "            # Read all of the files\n",
    "            files_to_read = mon_data.loc[(mon_data['esm'] == esm) & (mon_data['var'] == var)][['file']].copy()\n",
    "\n",
    "            for fname in files_to_read['file']:\n",
    "                out = pd.DataFrame()\n",
    "                ds = xr.open_dataset(( nc_dir+ mon + '_patterns/' + fname))\n",
    "                out['slope'] = np.reshape(ds.slope.values,-1)\n",
    "                out['intercept'] = np.reshape(ds.intercept.values,-1)\n",
    "                out['grid_id'] = out.index\n",
    "                out['esm'] = [fname.split('_', 1)[0]] * len(out)\n",
    "                out['scenario'] = [fname.split('_', 2)[1]] * len(out)\n",
    "                out['var'] = [fname.split('_', 3)[2]] * len(out)\n",
    "                out['file'] = [fname] * len(out)\n",
    "\n",
    "\n",
    "                esm_data_holder = pd.concat([esm_data_holder, out]).reset_index(drop=True).copy()\n",
    "                # end for fname in files\n",
    "\n",
    "            # end for var in var_list\n",
    "\n",
    "            esm_data_holder.to_csv(nc_dir + esm + '_' + mon + '_values.csv', index=False)\n",
    "        # end for esm in esm_list\n",
    "\n",
    "    #end loop over mon in months"
   ],
   "metadata": {
    "collapsed": false,
    "is_executing": true,
    "ExecuteTime": {
     "start_time": "2023-08-23T16:45:00.093779Z"
    }
   }
  }
 ],
 "metadata": {
  "kernelspec": {
   "display_name": "Python 3",
   "language": "python",
   "name": "python3"
  },
  "language_info": {
   "codemirror_mode": {
    "name": "ipython",
    "version": 2
   },
   "file_extension": ".py",
   "mimetype": "text/x-python",
   "name": "python",
   "nbconvert_exporter": "python",
   "pygments_lexer": "ipython2",
   "version": "2.7.6"
  }
 },
 "nbformat": 4,
 "nbformat_minor": 0
}
