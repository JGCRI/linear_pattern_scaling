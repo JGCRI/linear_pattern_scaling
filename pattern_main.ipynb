{
 "cells": [
  {
   "cell_type": "markdown",
   "source": [
    "# Pangeo-Enabled ESM Pattern Scaling (PEEPS)\n",
    "# libraries and helper functions\n",
    "\n",
    "For simplicity in this notebook, many of the repeated calculations used for\n",
    "linear pattern scaling are included as functions in the `helper.py` script,\n",
    "which is a part of this repository and sourced:"
   ],
   "metadata": {
    "collapsed": false
   }
  },
  {
   "cell_type": "code",
   "execution_count": 1,
   "outputs": [],
   "source": [
    "# Load all of the libraries\n",
    "from matplotlib import pyplot as plt\n",
    "import pandas as pd\n",
    "\n",
    "\n",
    "%matplotlib inline\n",
    "%config InlineBackend.figure_format = 'retina'\n",
    "plt.rcParams['figure.figsize'] = 12, 6\n",
    "\n",
    "# easier to read displays in console\n",
    "pd.set_option('display.max_columns', None)\n",
    "\n",
    "# source the helper functions\n",
    "%run helpers.py"
   ],
   "metadata": {
    "collapsed": false,
    "pycharm": {
     "name": "#%%\n"
    }
   }
  },
  {
   "cell_type": "markdown",
   "source": [
    "# Intro\n",
    "We will pull CMIP6 netcdf data from Pangeo (\n",
    "https://gallery.pangeo.io/repos/pangeo-data/pangeo-tutorial-gallery/).\n",
    "These will include:\n",
    "- monthly `tas` data from which to calculate `tgav`\n",
    "- any specified variables of interest to pattern  scale"
   ],
   "metadata": {
    "collapsed": false
   }
  },
  {
   "cell_type": "markdown",
   "source": [
    "# Data\n"
   ],
   "metadata": {
    "collapsed": false
   }
  },
  {
   "cell_type": "code",
   "execution_count": 2,
   "outputs": [
    {
     "name": "stdout",
     "output_type": "stream",
     "text": [
      "['HadGEM3-GC31-MM' 'GFDL-ESM4' 'GFDL-CM4' 'IPSL-CM6A-LR' 'CNRM-CM6-1'\n",
      " 'GISS-E2-1-G' 'GISS-E2-1-H' 'BCC-CSM2-MR' 'BCC-ESM1' 'CNRM-ESM2-1'\n",
      " 'MIROC6' 'AWI-CM-1-1-MR' 'EC-Earth3-LR' 'MRI-ESM2-0' 'CESM2-WACCM'\n",
      " 'CESM2' 'SAM0-UNICON' 'GISS-E2-1-G-CC' 'UKESM1-0-LL' 'EC-Earth3'\n",
      " 'CanESM5' 'CanESM5-CanOE' 'EC-Earth3-Veg' 'HadGEM3-GC31-LL'\n",
      " 'MPI-ESM-1-2-HAM' 'NESM3' 'CAMS-CSM1-0' 'MPI-ESM1-2-LR' 'MPI-ESM1-2-HR'\n",
      " 'MCM-UA-1-0' 'NorESM2-LM' 'FGOALS-g3' 'FGOALS-f3-L' 'MIROC-ES2L'\n",
      " 'FIO-ESM-2-0' 'NorCPM1' 'NorESM1-F' 'CNRM-CM6-1-HR' 'ACCESS-CM2'\n",
      " 'NorESM2-MM' 'ACCESS-ESM1-5' 'IITM-ESM' 'CESM2-FV2' 'CESM2-WACCM-FV2'\n",
      " 'GISS-E2-2-G' 'GISS-E2-2-H' 'TaiESM1' 'AWI-ESM-1-1-LR' 'CIESM'\n",
      " 'CMCC-CM2-SR5' 'EC-Earth3-AerChem' 'IPSL-CM5A2-INCA' 'CMCC-CM2-HR4'\n",
      " 'EC-Earth3-Veg-LR' 'CAS-ESM2-0' 'EC-Earth3-CC' 'CMCC-ESM2' 'MIROC-ES2H'\n",
      " 'ICON-ESM-LR' 'IPSL-CM6A-LR-INCA']\n"
     ]
    }
   ],
   "source": [
    "fetch_pangeo_table().to_csv('pangeo_table.csv', index=False)\n",
    "# in same directory as this notebook, easy\n",
    "pangeo_data = pd.read_csv('pangeo_table.csv')\n",
    "\n",
    "\n",
    "esm_list = pangeo_data.model.unique().copy()\n",
    "print(esm_list)\n",
    "\n",
    "# Specify the scenarios and variables of interest for scaling\n",
    "exp_list = ['historical', 'ssp370',\n",
    "            'ssp585', 'ssp126', 'ssp245',\n",
    "            'ssp119', 'ssp460', 'ssp434'  ]\n",
    "\n",
    "var_list = ['tas', 'pr', 'hurs']"
   ],
   "metadata": {
    "collapsed": false,
    "pycharm": {
     "name": "#%%\n"
    }
   }
  },
  {
   "cell_type": "markdown",
   "source": [
    "# For a specific esm, variable, scenario, pattern scale\n",
    "\n",
    "## prep ensemble average data for training\n",
    "For linear pattern scaling, we fit the regression on the ensemble mean for each\n",
    "ESM, variable, and scenario. This calculation is included in `helpers.py > do_ps()`.\n",
    "\n",
    "\n",
    "\n",
    "## loop for annual patterns"
   ],
   "metadata": {
    "collapsed": false
   }
  },
  {
   "cell_type": "code",
   "execution_count": null,
   "metadata": {
    "pycharm": {
     "name": "#%%\n",
     "is_executing": true
    }
   },
   "outputs": [
    {
     "name": "stdout",
     "output_type": "stream",
     "text": [
      "HadGEM3-GC31-MM_historical_tas_annual_pattern.nc\n",
      "gs://cmip6/CMIP6/CMIP/MOHC/HadGEM3-GC31-MM/historical/r1i1p1f3/Amon/tas/gn/v20191207/\n",
      "gs://cmip6/CMIP6/CMIP/MOHC/HadGEM3-GC31-MM/historical/r2i1p1f3/Amon/tas/gn/v20191218/\n",
      "gs://cmip6/CMIP6/CMIP/MOHC/HadGEM3-GC31-MM/historical/r3i1p1f3/Amon/tas/gn/v20200601/\n",
      "gs://cmip6/CMIP6/CMIP/MOHC/HadGEM3-GC31-MM/historical/r4i1p1f3/Amon/tas/gn/v20200601/\n",
      "==================================================\n",
      "tgav calculation complete, doing scaling with call to reshape_and_scale.\n",
      "==================================================\n",
      "HadGEM3-GC31-MM_historical_pr_annual_pattern.nc\n",
      "gs://cmip6/CMIP6/CMIP/MOHC/HadGEM3-GC31-MM/historical/r1i1p1f3/Amon/pr/gn/v20191207/\n",
      "issue creating HadGEM3-GC31-MM_historical_pr_annual_pattern.nc\n",
      "Specific print statement above if data does not exist in pangeo_data.csv.\n",
      "And this exception would not have triggered.\n",
      "Bigger issue to figure out.\n",
      "HadGEM3-GC31-MM_historical_hurs_annual_pattern.nc\n",
      "gs://cmip6/CMIP6/CMIP/MOHC/HadGEM3-GC31-MM/historical/r1i1p1f3/Amon/hurs/gn/v20191207/\n",
      "issue creating HadGEM3-GC31-MM_historical_hurs_annual_pattern.nc\n",
      "Specific print statement above if data does not exist in pangeo_data.csv.\n",
      "And this exception would not have triggered.\n",
      "Bigger issue to figure out.\n",
      "HadGEM3-GC31-MM_ssp370_tas_annual_pattern.nc\n",
      "==================================================\n",
      "This combination of data: \n",
      "HadGEM3-GC31-MM tas ssp370\n",
      "does not exist in pangeo_data.csv. Skipping.\n",
      "==================================================\n",
      "HadGEM3-GC31-MM_ssp370_pr_annual_pattern.nc\n",
      "issue creating HadGEM3-GC31-MM_ssp370_pr_annual_pattern.nc\n",
      "Specific print statement above if data does not exist in pangeo_data.csv.\n",
      "And this exception would not have triggered.\n",
      "Bigger issue to figure out.\n",
      "HadGEM3-GC31-MM_ssp370_hurs_annual_pattern.nc\n",
      "issue creating HadGEM3-GC31-MM_ssp370_hurs_annual_pattern.nc\n",
      "Specific print statement above if data does not exist in pangeo_data.csv.\n",
      "And this exception would not have triggered.\n",
      "Bigger issue to figure out.\n",
      "HadGEM3-GC31-MM_ssp585_tas_annual_pattern.nc\n",
      "issue creating HadGEM3-GC31-MM_ssp585_tas_annual_pattern.nc\n",
      "Specific print statement above if data does not exist in pangeo_data.csv.\n",
      "And this exception would not have triggered.\n",
      "Bigger issue to figure out.\n",
      "HadGEM3-GC31-MM_ssp585_pr_annual_pattern.nc\n",
      "issue creating HadGEM3-GC31-MM_ssp585_pr_annual_pattern.nc\n",
      "Specific print statement above if data does not exist in pangeo_data.csv.\n",
      "And this exception would not have triggered.\n",
      "Bigger issue to figure out.\n",
      "HadGEM3-GC31-MM_ssp585_hurs_annual_pattern.nc\n",
      "issue creating HadGEM3-GC31-MM_ssp585_hurs_annual_pattern.nc\n",
      "Specific print statement above if data does not exist in pangeo_data.csv.\n",
      "And this exception would not have triggered.\n",
      "Bigger issue to figure out.\n",
      "HadGEM3-GC31-MM_ssp126_tas_annual_pattern.nc\n"
     ]
    }
   ],
   "source": [
    "OUTPUT_DIR = 'outputs/'\n",
    "\n",
    "for esm in esm_list:\n",
    "    for scn in exp_list:\n",
    "        for variable in var_list:\n",
    "\n",
    "            # annual patterns\n",
    "            savename = (esm + '_' + scn + '_' + variable + '_annual_pattern.nc' )\n",
    "            print(savename)\n",
    "            try:\n",
    "                ensemble_ds = do_ps(esm_name = esm,\n",
    "                                    var_name = variable,\n",
    "                                    exp_name  = scn,\n",
    "                                    monthly_or_annual = 'annual',\n",
    "                                    fit_intercept = True,\n",
    "                                    save_resids = True,\n",
    "                                    tgav_DIR = (OUTPUT_DIR + 'tgav'))\n",
    "\n",
    "                if not ensemble_ds == None:\n",
    "                    ensemble_ds[0].to_netcdf(OUTPUT_DIR + 'patterns/'+ savename)\n",
    "                    ensemble_ds[1].to_netcdf(OUTPUT_DIR + 'residuals/' + esm + '_' + scn +\n",
    "                                             '_' + variable + '_annual_pattern_resids.nc' )\n",
    "\n",
    "                del(ensemble_ds)\n",
    "\n",
    "\n",
    "\n",
    "\n",
    "            except:\n",
    "                print('issue creating ' + savename)\n",
    "                print('Specific print statement above if data does not exist in pangeo_data.csv.')\n",
    "                print('And this exception would not have triggered.')\n",
    "                print('Bigger issue to figure out.')\n",
    "\n",
    "\n",
    "\n",
    "        # end for over variable\n",
    "    #end for over experiment\n",
    "# end for over esm"
   ]
  },
  {
   "cell_type": "markdown",
   "metadata": {
    "pycharm": {
     "name": "#%% md\n"
    }
   },
   "source": [
    "## loop for monthly patterns"
   ]
  },
  {
   "cell_type": "code",
   "execution_count": null,
   "metadata": {
    "pycharm": {
     "name": "#%%\n",
     "is_executing": true
    }
   },
   "outputs": [],
   "source": [
    "months = pd.DataFrame(data={\n",
    "            'month': [1, 2, 3, 4, 5, 6, 7, 8, 9, 10, 11, 12],\n",
    "            'month_name': ['jan', 'feb', 'mar', 'apr',\n",
    "                           'may', 'jun', 'jul', 'aug',\n",
    "                           'sep', 'oct', 'nov', 'dec']\n",
    "        })\n",
    "\n",
    "OUTPUT_DIR = 'outputs/'\n",
    "\n",
    "for esm in esm_list:\n",
    "    for scn in exp_list:\n",
    "        for variable in var_list:\n",
    "\n",
    "            savename = (esm + '_' + scn + '_' + variable + '_monthly_patterns' )\n",
    "            print(savename)\n",
    "            try:\n",
    "                ensemble_ds = do_ps(esm_name = esm,\n",
    "                                    var_name = variable,\n",
    "                                    exp_name  = scn,\n",
    "                                    monthly_or_annual = 'monthly',\n",
    "                                    fit_intercept = True,\n",
    "                                    save_resids=True)\n",
    "\n",
    "\n",
    "\n",
    "                if not ensemble_ds == None:\n",
    "                    for ind in range(1, 13):\n",
    "                        month_nm = months.loc[(ind - 1), 'month_name']\n",
    "                        ensemble_ds[(ind-1)][0].to_netcdf(OUTPUT_DIR + 'patterns/' + savename +\n",
    "                                                          '_' + month_nm + '.nc')\n",
    "                        ensemble_ds[(ind-1)][1].to_netcdf(OUTPUT_DIR + 'residuals/' +savename +\n",
    "                                                          '_' + month_nm + '_resids.nc')\n",
    "\n",
    "                del(ensemble_ds)\n",
    "\n",
    "\n",
    "\n",
    "\n",
    "            except:\n",
    "                print('issue creating ' + savename)\n",
    "                print('Specific print statement above if data does not exist in pangeo_data.csv.')\n",
    "                print('And this exception would not have triggered.')\n",
    "                print('Bigger issue to figure out.')\n",
    "\n",
    "\n",
    "\n",
    "        # end for over variable\n",
    "    #end for over experiment\n",
    "# end for over esm"
   ]
  }
 ],
 "metadata": {
  "kernelspec": {
   "display_name": "Python 3 (ipykernel)",
   "language": "python",
   "name": "python3"
  },
  "language_info": {
   "codemirror_mode": {
    "name": "ipython",
    "version": 3
   },
   "file_extension": ".py",
   "mimetype": "text/x-python",
   "name": "python",
   "nbconvert_exporter": "python",
   "pygments_lexer": "ipython3",
   "version": "3.7.13"
  }
 },
 "nbformat": 4,
 "nbformat_minor": 1
}